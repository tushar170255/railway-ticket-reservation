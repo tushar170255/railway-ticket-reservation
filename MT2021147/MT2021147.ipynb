{
  "nbformat": 4,
  "nbformat_minor": 0,
  "metadata": {
    "colab": {
      "name": "MT2021147.ipynb",
      "provenance": [],
      "collapsed_sections": []
    },
    "kernelspec": {
      "display_name": "Python 3",
      "name": "python3"
    },
    "language_info": {
      "name": "python"
    }
  },
  "cells": [
    {
      "cell_type": "markdown",
      "metadata": {
        "id": "uv-Oq4GG31mE"
      },
      "source": [
        " **<font size=6 color=\"red\" > MML Assignment 2<font size color>**\n",
        " \n",
        "**<font size=2>MT2021147 - Tushar sharma<font size>**"
      ]
    },
    {
      "cell_type": "code",
      "metadata": {
        "id": "6MypaO_zk04Z"
      },
      "source": [
        "import matplotlib.pyplot as plot\n",
        "import numpy as np\n",
        "import heapq\n",
        "\n",
        "from sklearn.metrics import mean_squared_error as mse\n"
      ],
      "execution_count": 18,
      "outputs": []
    },
    {
      "cell_type": "code",
      "metadata": {
        "colab": {
          "base_uri": "https://localhost:8080/"
        },
        "id": "sDZ8SQy_l9ky",
        "outputId": "eb7ecf09-77e9-4163-fdc4-d04c4ccfa978"
      },
      "source": [
        "## Initialisation of random 10X10 matrix and making it symmetric\n",
        "np.random.seed(1)\n",
        "A = np.random.randint(15, size=(10, 10))\n",
        "symm= A.T @ A\n",
        "symm"
      ],
      "execution_count": 19,
      "outputs": [
        {
          "output_type": "execute_result",
          "data": {
            "text/plain": [
              "array([[ 506,  508,  637,  516,  486,  511,  276,  416,  497,  412],\n",
              "       [ 508,  672,  591,  608,  535,  608,  406,  411,  408,  367],\n",
              "       [ 637,  591, 1059,  701,  756,  738,  382,  642,  670,  580],\n",
              "       [ 516,  608,  701,  709,  581,  623,  477,  502,  455,  395],\n",
              "       [ 486,  535,  756,  581,  614,  595,  404,  511,  456,  438],\n",
              "       [ 511,  608,  738,  623,  595,  792,  430,  524,  585,  454],\n",
              "       [ 276,  406,  382,  477,  404,  430,  485,  344,  195,  287],\n",
              "       [ 416,  411,  642,  502,  511,  524,  344,  623,  432,  428],\n",
              "       [ 497,  408,  670,  455,  456,  585,  195,  432,  717,  457],\n",
              "       [ 412,  367,  580,  395,  438,  454,  287,  428,  457,  523]])"
            ]
          },
          "metadata": {},
          "execution_count": 19
        }
      ]
    },
    {
      "cell_type": "markdown",
      "metadata": {
        "id": "v2imDy9xMA4s"
      },
      "source": [
        "**<font size=3> SKLEARN functuion for EIGEN VALUES<font size>**"
      ]
    },
    {
      "cell_type": "code",
      "metadata": {
        "colab": {
          "base_uri": "https://localhost:8080/"
        },
        "id": "Z3AXrRYZmv5m",
        "outputId": "ad9e5955-3791-4ccd-c414-df73ac5fb3fe"
      },
      "source": [
        "\n",
        "\n",
        "eval, evec = np.linalg.eig(symm)\n",
        "t = heapq.nlargest(5, eval)\n",
        "print(t)"
      ],
      "execution_count": 20,
      "outputs": [
        {
          "output_type": "stream",
          "name": "stdout",
          "text": [
            "[5247.489684316448, 532.601167229548, 290.42922272222813, 207.60805694832263, 158.20624352126546]\n"
          ]
        }
      ]
    },
    {
      "cell_type": "markdown",
      "metadata": {
        "id": "Ri9fBxg5MHxP"
      },
      "source": [
        "**<font size=3> Power Iteration method <font size>**"
      ]
    },
    {
      "cell_type": "code",
      "metadata": {
        "id": "Y7rjTiTqUiRj"
      },
      "source": [
        "def cal_eval(A, l):\n",
        "  return (l.T @ A @ l)/(l.T @ l)"
      ],
      "execution_count": 21,
      "outputs": []
    },
    {
      "cell_type": "code",
      "metadata": {
        "id": "JYAY36tCoYde"
      },
      "source": [
        "\n",
        "\n",
        "\n",
        "def power_iteration_function(A, i):\n",
        "  ## initialising eigenvector matrix\n",
        "  V = np.random.randint(10, size=(10, 10))\n",
        "\n",
        "  ## QR Factorisation\n",
        "  Q, R = np.linalg.qr(V)\n",
        "\n",
        "  ## iteratively finding the eigenvectors \n",
        "  for o in range(1, i):\n",
        "    u= A @ Q\n",
        "    Q, R = np.linalg.qr(u)\n",
        "\n",
        "  ## finding eigen values corresponding to the eigen vectors calculated in above step\n",
        "  evals=[]\n",
        "  for o in range(10):\n",
        "    evals.append(cal_eval(A, (np.array(Q).T)[o]))\n",
        "\n",
        "\n",
        "  t=heapq.nlargest(5, evals)\n",
        "\n",
        "  return t"
      ],
      "execution_count": 22,
      "outputs": []
    },
    {
      "cell_type": "code",
      "metadata": {
        "colab": {
          "base_uri": "https://localhost:8080/"
        },
        "id": "FcagLr1Yso8U",
        "outputId": "08b78ee7-8594-4562-a3cc-f108a7613c34"
      },
      "source": [
        "e=[]\n",
        "i=[5, 10, 15, 20, 25, 30, 35, 40, 45, 50]\n",
        "\n",
        "for o in i:\n",
        "  s = power_iteration_function(symm, o)\n",
        "  e.append(mse(t, s))\n",
        "\n",
        "print(e)"
      ],
      "execution_count": 23,
      "outputs": [
        {
          "output_type": "stream",
          "name": "stdout",
          "text": [
            "[145.474083453912, 0.6154407296039613, 0.00034489835899747764, 0.0005723343788233611, 5.9042236212066945e-09, 3.273061201039416e-11, 2.080854204680278e-12, 5.728010920518463e-13, 1.4704752592505303e-12, 1.345153156832303e-10]\n"
          ]
        }
      ]
    },
    {
      "cell_type": "code",
      "metadata": {
        "colab": {
          "base_uri": "https://localhost:8080/",
          "height": 265
        },
        "id": "lu5peh_GvwO_",
        "outputId": "728aa1fc-16c3-44db-87c1-2cf01cb3dff8"
      },
      "source": [
        "plot.plot(i, e)\n",
        "plot.show()"
      ],
      "execution_count": 24,
      "outputs": [
        {
          "output_type": "display_data",
          "data": {
            "image/png": "[encoded data removed]",
            "text/plain": [
              "<Figure size 432x288 with 1 Axes>"
            ]
          },
          "metadata": {
            "needs_background": "light"
          }
        }
      ]
    },
    {
      "cell_type": "code",
      "metadata": {
        "id": "dJmrbmC2O3cf"
      },
      "source": [
        ""
      ],
      "execution_count": 17,
      "outputs": []
    }
  ]
}