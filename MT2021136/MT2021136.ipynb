{
  "nbformat": 4,
  "nbformat_minor": 0,
  "metadata": {
    "colab": {
      "name": "MT2021136.ipynb",
      "provenance": [],
      "collapsed_sections": []
    },
    "kernelspec": {
      "display_name": "Python 3",
      "name": "python3"
    },
    "language_info": {
      "name": "python"
    }
  },
  "cells": [
    {
      "cell_type": "markdown",
      "metadata": {
        "id": "uv-Oq4GG31mE"
      },
      "source": [
        " **<font size=6 color=\"blue\" > Maths for Machine Learning Assignment 2<font size color>**\n",
        "\n",
        "**<font size=4>Ques no.: 1<font size>**\n",
        "\n",
        "**<font size=2>simran rawat - MT2021136<font size>**"
      ]
    },
    {
      "cell_type": "code",
      "metadata": {
        "id": "6MypaO_zk04Z"
      },
      "source": [
        "import numpy as np\n",
        "import heapq\n",
        "import matplotlib.pyplot as plot\n",
        "from sklearn.metrics import mean_squared_error as mse\n"
      ],
      "execution_count": 12,
      "outputs": []
    },
    {
      "cell_type": "code",
      "metadata": {
        "colab": {
          "base_uri": "https://localhost:8080/"
        },
        "id": "sDZ8SQy_l9ky",
        "outputId": "cb70222c-9084-4a61-e560-9c3d88073f74"
      },
      "source": [
        "## Initialisation of random 10X10 matrix and making it symmetric\n",
        "np.random.seed(1)\n",
        "N = np.random.randint(9, size=(10, 10))\n",
        "N_symmetric = N.T @ N\n",
        "N_symmetric"
      ],
      "execution_count": 13,
      "outputs": [
        {
          "output_type": "execute_result",
          "data": {
            "text/plain": [
              "array([[267, 222, 257, 162, 110, 180, 239, 236,  95, 187],\n",
              "       [222, 298, 284, 131,  86, 144, 306, 278, 106, 174],\n",
              "       [257, 284, 359, 201, 125, 202, 352, 289, 149, 217],\n",
              "       [162, 131, 201, 156, 106, 128, 155, 137,  67, 134],\n",
              "       [110,  86, 125, 106, 123, 102, 114, 102,  81, 115],\n",
              "       [180, 144, 202, 128, 102, 179, 202, 159, 109, 114],\n",
              "       [239, 306, 352, 155, 114, 202, 412, 319, 208, 219],\n",
              "       [236, 278, 289, 137, 102, 159, 319, 339, 130, 215],\n",
              "       [ 95, 106, 149,  67,  81, 109, 208, 130, 162, 123],\n",
              "       [187, 174, 217, 134, 115, 114, 219, 215, 123, 236]])"
            ]
          },
          "metadata": {},
          "execution_count": 13
        }
      ]
    },
    {
      "cell_type": "markdown",
      "metadata": {
        "id": "v2imDy9xMA4s"
      },
      "source": [
        "**<font size=3> ANALYTICAL SOLUTION FOR TOP (5) EIGEN VALUES<font size>**"
      ]
    },
    {
      "cell_type": "code",
      "metadata": {
        "colab": {
          "base_uri": "https://localhost:8080/"
        },
        "id": "Z3AXrRYZmv5m",
        "outputId": "bf01eee2-e63a-4f4c-fbff-d0eb60ab5c93"
      },
      "source": [
        "\n",
        "\n",
        "eigvalue, eigvector = np.linalg.eig(N_symmetric)\n",
        "t = heapq.nlargest(5, eigvalue)\n",
        "print(t)"
      ],
      "execution_count": 14,
      "outputs": [
        {
          "output_type": "stream",
          "name": "stdout",
          "text": [
            "[1944.093259318211, 183.76685706106738, 149.76788851461495, 108.8665067762453, 60.898018399413075]\n"
          ]
        }
      ]
    },
    {
      "cell_type": "markdown",
      "metadata": {
        "id": "Ri9fBxg5MHxP"
      },
      "source": [
        "**<font size=3> Power Iteration method <font size>**"
      ]
    },
    {
      "cell_type": "code",
      "metadata": {
        "id": "JYAY36tCoYde"
      },
      "source": [
        "\n",
        "def cal_eigen_values(A, x):\n",
        "  return (x.T @ A @ x)/(x.T @ x)\n",
        "\n",
        "def power_iteration_method(A, iter):\n",
        "  ## random eigenvector matrix\n",
        "  V = np.random.randint(10, size=(10, 10))\n",
        "\n",
        "  ## QR Factorisation  OF V\n",
        "  Q, R = np.linalg.qr(V)\n",
        "\n",
        "  ##  finding the eigenvectors matrix iteratively\n",
        "  for i in range(1, iter):\n",
        "    P = A @ Q\n",
        "    Q, R = np.linalg.qr(P)\n",
        "\n",
        "  ## Calculation of eigen values\n",
        "  eigvalues=[]\n",
        "  for i in range(10):\n",
        "    eigvalues.append(cal_eigen_values(A, (np.array(Q).T)[i]))\n",
        "\n",
        "\n",
        "  t=heapq.nlargest(5, eigvalues)\n",
        "\n",
        "  return t"
      ],
      "execution_count": 15,
      "outputs": []
    },
    {
      "cell_type": "code",
      "metadata": {
        "colab": {
          "base_uri": "https://localhost:8080/"
        },
        "id": "FcagLr1Yso8U",
        "outputId": "4cd8b992-5d1b-48ff-e86f-cdff4c4d707b"
      },
      "source": [
        "err=[]\n",
        "iters=[5, 10, 15, 20, 25, 30, 35, 40, 45, 50]\n",
        "\n",
        "for i in iters:\n",
        "  s = power_iteration_method(N_symmetric, i)\n",
        "  err.append(mse(t, s))\n",
        "\n",
        "print(err)"
      ],
      "execution_count": 16,
      "outputs": [
        {
          "output_type": "stream",
          "name": "stdout",
          "text": [
            "[44.29075950587116, 2.371457827833711, 2.3262986392164758e-05, 2.5298256051238373e-07, 0.00018738817198381562, 1.3978485911346551e-08, 1.5894389345349307e-08, 2.0332881647103263e-19, 2.964832345821658e-14, 2.4703971299688467e-16]\n"
          ]
        }
      ]
    },
    {
      "cell_type": "code",
      "metadata": {
        "colab": {
          "base_uri": "https://localhost:8080/",
          "height": 265
        },
        "id": "lu5peh_GvwO_",
        "outputId": "c9da931f-1f59-4630-8e35-cba8002788d2"
      },
      "source": [
        "plot.plot(iters, err)\n",
        "plot.show()"
      ],
      "execution_count": 17,
      "outputs": [
        {
          "output_type": "display_data",
          "data": {
            "image/png": "[encoded data removed]",
            "text/plain": [
              "<Figure size 432x288 with 1 Axes>"
            ]
          },
          "metadata": {
            "needs_background": "light"
          }
        }
      ]
    },
    {
      "cell_type": "code",
      "metadata": {
        "id": "dJmrbmC2O3cf"
      },
      "source": [
        ""
      ],
      "execution_count": 17,
      "outputs": []
    }
  ]
}